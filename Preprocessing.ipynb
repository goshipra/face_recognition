{
 "cells": [
  {
   "cell_type": "code",
   "execution_count": 1,
   "metadata": {},
   "outputs": [],
   "source": [
    "# Importing necessary Libraries\n",
    "\n",
    "import numpy as np\n",
    "import pandas as pd\n",
    "import matplotlib.pyplot as plt"
   ]
  },
  {
   "cell_type": "code",
   "execution_count": 2,
   "metadata": {},
   "outputs": [],
   "source": [
    "# Loading data into numpy array\n",
    "faces_image = np.load('olivetti_faces/olivetti_faces.npy')\n",
    "faces_target = np.load('olivetti_faces/olivetti_faces_target.npy')"
   ]
  },
  {
   "cell_type": "code",
   "execution_count": 3,
   "metadata": {},
   "outputs": [
    {
     "data": {
      "text/plain": [
       "array([[[0.30991736, 0.3677686 , 0.41735536, ..., 0.37190083,\n",
       "         0.3305785 , 0.30578512],\n",
       "        [0.3429752 , 0.40495867, 0.43801653, ..., 0.37190083,\n",
       "         0.338843  , 0.3140496 ],\n",
       "        [0.3429752 , 0.41735536, 0.45041323, ..., 0.38016528,\n",
       "         0.338843  , 0.29752067],\n",
       "        ...,\n",
       "        [0.21487603, 0.20661157, 0.2231405 , ..., 0.15289256,\n",
       "         0.16528925, 0.17355372],\n",
       "        [0.20247933, 0.2107438 , 0.2107438 , ..., 0.14876033,\n",
       "         0.16115703, 0.16528925],\n",
       "        [0.20247933, 0.20661157, 0.20247933, ..., 0.15289256,\n",
       "         0.16115703, 0.1570248 ]],\n",
       "\n",
       "       [[0.45454547, 0.47107437, 0.5123967 , ..., 0.19008264,\n",
       "         0.18595041, 0.18595041],\n",
       "        [0.446281  , 0.48347107, 0.5206612 , ..., 0.21487603,\n",
       "         0.2107438 , 0.2107438 ],\n",
       "        [0.49586776, 0.5165289 , 0.53305787, ..., 0.20247933,\n",
       "         0.20661157, 0.20661157],\n",
       "        ...,\n",
       "        [0.77272725, 0.78099173, 0.7933884 , ..., 0.1446281 ,\n",
       "         0.1446281 , 0.1446281 ],\n",
       "        [0.77272725, 0.7768595 , 0.7892562 , ..., 0.13636364,\n",
       "         0.13636364, 0.13636364],\n",
       "        [0.7644628 , 0.7892562 , 0.78099173, ..., 0.15289256,\n",
       "         0.15289256, 0.15289256]],\n",
       "\n",
       "       [[0.3181818 , 0.40082645, 0.49173555, ..., 0.40082645,\n",
       "         0.3553719 , 0.30991736],\n",
       "        [0.30991736, 0.3966942 , 0.47933885, ..., 0.40495867,\n",
       "         0.37603307, 0.30165288],\n",
       "        [0.26859504, 0.34710744, 0.45454547, ..., 0.3966942 ,\n",
       "         0.37190083, 0.30991736],\n",
       "        ...,\n",
       "        [0.1322314 , 0.09917355, 0.08264463, ..., 0.13636364,\n",
       "         0.14876033, 0.15289256],\n",
       "        [0.11570248, 0.09504132, 0.0785124 , ..., 0.1446281 ,\n",
       "         0.1446281 , 0.1570248 ],\n",
       "        [0.11157025, 0.09090909, 0.0785124 , ..., 0.14049587,\n",
       "         0.14876033, 0.15289256]],\n",
       "\n",
       "       ...,\n",
       "\n",
       "       [[0.5       , 0.53305787, 0.607438  , ..., 0.28512397,\n",
       "         0.23966943, 0.21487603],\n",
       "        [0.49173555, 0.5413223 , 0.60330576, ..., 0.29752067,\n",
       "         0.20247933, 0.20661157],\n",
       "        [0.46694216, 0.55785125, 0.6198347 , ..., 0.29752067,\n",
       "         0.17768595, 0.18595041],\n",
       "        ...,\n",
       "        [0.03305785, 0.46280992, 0.5289256 , ..., 0.17355372,\n",
       "         0.17355372, 0.1694215 ],\n",
       "        [0.1570248 , 0.5247934 , 0.53305787, ..., 0.16528925,\n",
       "         0.1570248 , 0.18595041],\n",
       "        [0.45454547, 0.5206612 , 0.53305787, ..., 0.17768595,\n",
       "         0.14876033, 0.19008264]],\n",
       "\n",
       "       [[0.21487603, 0.21900827, 0.21900827, ..., 0.71487606,\n",
       "         0.71487606, 0.6942149 ],\n",
       "        [0.20247933, 0.20661157, 0.20661157, ..., 0.7107438 ,\n",
       "         0.7066116 , 0.6942149 ],\n",
       "        [0.2107438 , 0.20661157, 0.20661157, ..., 0.6859504 ,\n",
       "         0.69008267, 0.6942149 ],\n",
       "        ...,\n",
       "        [0.2644628 , 0.25619835, 0.2603306 , ..., 0.5413223 ,\n",
       "         0.57438016, 0.59090906],\n",
       "        [0.26859504, 0.2644628 , 0.26859504, ..., 0.56198347,\n",
       "         0.58264464, 0.59504133],\n",
       "        [0.27272728, 0.26859504, 0.27272728, ..., 0.57438016,\n",
       "         0.59090906, 0.60330576]],\n",
       "\n",
       "       [[0.5165289 , 0.46280992, 0.28099173, ..., 0.5785124 ,\n",
       "         0.5413223 , 0.60330576],\n",
       "        [0.5165289 , 0.45041323, 0.29338843, ..., 0.58264464,\n",
       "         0.553719  , 0.5785124 ],\n",
       "        [0.5165289 , 0.44214877, 0.29338843, ..., 0.59917355,\n",
       "         0.5785124 , 0.54545456],\n",
       "        ...,\n",
       "        [0.39256197, 0.41322315, 0.38842976, ..., 0.33471075,\n",
       "         0.37190083, 0.3966942 ],\n",
       "        [0.39256197, 0.38429752, 0.40495867, ..., 0.3305785 ,\n",
       "         0.35950413, 0.37603307],\n",
       "        [0.3677686 , 0.40495867, 0.3966942 , ..., 0.35950413,\n",
       "         0.3553719 , 0.38429752]]], dtype=float32)"
      ]
     },
     "execution_count": 3,
     "metadata": {},
     "output_type": "execute_result"
    }
   ],
   "source": [
    "#print(faces_image)\n",
    "faces_image"
   ]
  },
  {
   "cell_type": "code",
   "execution_count": 4,
   "metadata": {},
   "outputs": [
    {
     "data": {
      "text/plain": [
       "(400, 64, 64)"
      ]
     },
     "execution_count": 4,
     "metadata": {},
     "output_type": "execute_result"
    }
   ],
   "source": [
    "# This dataset have 40 people each having 10 different pictures.\n",
    "# These all pictures are 64*64 pixels each. Total= 400 pictures\n",
    "faces_image.shape"
   ]
  },
  {
   "cell_type": "code",
   "execution_count": 5,
   "metadata": {},
   "outputs": [],
   "source": [
    "n_row = 64\n",
    "n_col = 64"
   ]
  },
  {
   "cell_type": "code",
   "execution_count": 6,
   "metadata": {},
   "outputs": [
    {
     "data": {
      "text/plain": [
       "(400, 4096)"
      ]
     },
     "execution_count": 6,
     "metadata": {},
     "output_type": "execute_result"
    }
   ],
   "source": [
    "# We have taken each image and flattened it into 64*64=4096 , so that we can \n",
    "# store it in csv dataset.\n",
    "faces_data = faces_image.reshape(faces_image.shape[0], faces_image.shape[1] * faces_image.shape[2])\n",
    "faces_data.shape"
   ]
  },
  {
   "cell_type": "code",
   "execution_count": 7,
   "metadata": {},
   "outputs": [
    {
     "data": {
      "text/plain": [
       "array([[0.30991736, 0.3677686 , 0.41735536, ..., 0.15289256, 0.16115703,\n",
       "        0.1570248 ],\n",
       "       [0.45454547, 0.47107437, 0.5123967 , ..., 0.15289256, 0.15289256,\n",
       "        0.15289256],\n",
       "       [0.3181818 , 0.40082645, 0.49173555, ..., 0.14049587, 0.14876033,\n",
       "        0.15289256],\n",
       "       ...,\n",
       "       [0.5       , 0.53305787, 0.607438  , ..., 0.17768595, 0.14876033,\n",
       "        0.19008264],\n",
       "       [0.21487603, 0.21900827, 0.21900827, ..., 0.57438016, 0.59090906,\n",
       "        0.60330576],\n",
       "       [0.5165289 , 0.46280992, 0.28099173, ..., 0.35950413, 0.3553719 ,\n",
       "        0.38429752]], dtype=float32)"
      ]
     },
     "execution_count": 7,
     "metadata": {},
     "output_type": "execute_result"
    }
   ],
   "source": [
    "faces_data"
   ]
  },
  {
   "cell_type": "code",
   "execution_count": 8,
   "metadata": {},
   "outputs": [
    {
     "name": "stdout",
     "output_type": "stream",
     "text": [
      "[ 0  0  0  0  0  0  0  0  0  0  1  1  1  1  1  1  1  1  1  1  2  2  2  2\n",
      "  2  2  2  2  2  2  3  3  3  3  3  3  3  3  3  3  4  4  4  4  4  4  4  4\n",
      "  4  4  5  5  5  5  5  5  5  5  5  5  6  6  6  6  6  6  6  6  6  6  7  7\n",
      "  7  7  7  7  7  7  7  7  8  8  8  8  8  8  8  8  8  8  9  9  9  9  9  9\n",
      "  9  9  9  9 10 10 10 10 10 10 10 10 10 10 11 11 11 11 11 11 11 11 11 11\n",
      " 12 12 12 12 12 12 12 12 12 12 13 13 13 13 13 13 13 13 13 13 14 14 14 14\n",
      " 14 14 14 14 14 14 15 15 15 15 15 15 15 15 15 15 16 16 16 16 16 16 16 16\n",
      " 16 16 17 17 17 17 17 17 17 17 17 17 18 18 18 18 18 18 18 18 18 18 19 19\n",
      " 19 19 19 19 19 19 19 19 20 20 20 20 20 20 20 20 20 20 21 21 21 21 21 21\n",
      " 21 21 21 21 22 22 22 22 22 22 22 22 22 22 23 23 23 23 23 23 23 23 23 23\n",
      " 24 24 24 24 24 24 24 24 24 24 25 25 25 25 25 25 25 25 25 25 26 26 26 26\n",
      " 26 26 26 26 26 26 27 27 27 27 27 27 27 27 27 27 28 28 28 28 28 28 28 28\n",
      " 28 28 29 29 29 29 29 29 29 29 29 29 30 30 30 30 30 30 30 30 30 30 31 31\n",
      " 31 31 31 31 31 31 31 31 32 32 32 32 32 32 32 32 32 32 33 33 33 33 33 33\n",
      " 33 33 33 33 34 34 34 34 34 34 34 34 34 34 35 35 35 35 35 35 35 35 35 35\n",
      " 36 36 36 36 36 36 36 36 36 36 37 37 37 37 37 37 37 37 37 37 38 38 38 38\n",
      " 38 38 38 38 38 38 39 39 39 39 39 39 39 39 39 39]\n"
     ]
    }
   ],
   "source": [
    "print(faces_target)\n"
   ]
  },
  {
   "cell_type": "code",
   "execution_count": 9,
   "metadata": {},
   "outputs": [
    {
     "data": {
      "image/png": "[encoded data removed]",
      "text/plain": [
       "<Figure size 432x288 with 1 Axes>"
      ]
     },
     "metadata": {
      "needs_background": "light"
     },
     "output_type": "display_data"
    }
   ],
   "source": [
    "# using matplotlib library, displying image in data set\n",
    "plt.imshow(faces_image[40],cmap='gray')\n",
    "plt.show()"
   ]
  },
  {
   "cell_type": "code",
   "execution_count": 10,
   "metadata": {},
   "outputs": [
    {
     "data": {
      "text/plain": [
       "(64, 64)"
      ]
     },
     "execution_count": 10,
     "metadata": {},
     "output_type": "execute_result"
    }
   ],
   "source": [
    "faces_image[40].shape"
   ]
  },
  {
   "cell_type": "code",
   "execution_count": 11,
   "metadata": {},
   "outputs": [],
   "source": [
    "n_samples = faces_image.shape[0]\n",
    "X = faces_data\n",
    "n_features = faces_data.shape[1]"
   ]
  },
  {
   "cell_type": "code",
   "execution_count": 12,
   "metadata": {},
   "outputs": [],
   "source": [
    "# the label to predict is the id of the person\n",
    "y = faces_target\n",
    "n_classes = faces_target.shape[0]"
   ]
  },
  {
   "cell_type": "code",
   "execution_count": 13,
   "metadata": {},
   "outputs": [
    {
     "name": "stdout",
     "output_type": "stream",
     "text": [
      "Total dataset size:\n",
      "n_samples: 400\n",
      "n_features: 4096\n",
      "n_classes: 400\n"
     ]
    }
   ],
   "source": [
    "print(\"Total dataset size:\")\n",
    "print(\"n_samples: %d\" % n_samples)\n",
    "print(\"n_features: %d\" % n_features)\n",
    "print(\"n_classes: %d\" % n_classes)"
   ]
  },
  {
   "cell_type": "code",
   "execution_count": 14,
   "metadata": {},
   "outputs": [],
   "source": [
    "#merged.to_csv(\"output.csv\", index=False)\n",
    "\n",
    "df= pd.DataFrame(X)\n",
    "df['target'] = pd.Series(y, index=df.index)\n",
    "\n",
    "df.to_csv(\"face_data.csv\", index=False)"
   ]
  },
  {
   "cell_type": "code",
   "execution_count": null,
   "metadata": {},
   "outputs": [],
   "source": []
  },
  {
   "cell_type": "code",
   "execution_count": null,
   "metadata": {},
   "outputs": [],
   "source": []
  }
 ],
 "metadata": {
  "kernelspec": {
   "display_name": "Python 3",
   "language": "python",
   "name": "python3"
  },
  "language_info": {
   "codemirror_mode": {
    "name": "ipython",
    "version": 3
   },
   "file_extension": ".py",
   "mimetype": "text/x-python",
   "name": "python",
   "nbconvert_exporter": "python",
   "pygments_lexer": "ipython3",
   "version": "3.8.5"
  }
 },
 "nbformat": 4,
 "nbformat_minor": 4
}
